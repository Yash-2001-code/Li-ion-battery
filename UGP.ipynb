{
 "cells": [
  {
   "cell_type": "code",
   "execution_count": 1,
   "metadata": {},
   "outputs": [],
   "source": [
    "import numpy as np\n",
    "import pandas as pd\n",
    "import matplotlib.pyplot as pt\n",
    "import seaborn as sns\n"
   ]
  },
  {
   "cell_type": "code",
   "execution_count": 2,
   "metadata": {},
   "outputs": [],
   "source": [
    "df = pd.read_excel(\"UGP battery data.xlsx\")"
   ]
  },
  {
   "cell_type": "code",
   "execution_count": 3,
   "metadata": {},
   "outputs": [
    {
     "data": {
      "text/plain": [
       "<bound method DataFrame.info of          Cathode  Li Cathode     Co  O    Mn    Ni  Fe  P  Al  Ti  ...  \\\n",
       "0         LiCoO2           1  1.000  2  0.00  0.00   0  0   0   0  ...   \n",
       "1         LiCoO2           1  1.000  2  0.00  0.00   0  0   0   0  ...   \n",
       "2         LiCoO2           1  1.000  2  0.00  0.00   0  0   0   0  ...   \n",
       "3         LiCoO2           1  1.000  2  0.00  0.00   0  0   0   0  ...   \n",
       "4         LiCoO2           1  1.000  2  0.00  0.00   0  0   0   0  ...   \n",
       "..           ...         ...    ... ..   ...   ...  .. ..  ..  ..  ...   \n",
       "379  Li Rich NMC           1  0.008  2  0.56  0.16   0  0   0   0  ...   \n",
       "380  Li Rich NMC           1  0.008  2  0.56  0.16   0  0   0   0  ...   \n",
       "381  Li Rich NMC           1  0.008  2  0.56  0.16   0  0   0   0  ...   \n",
       "382  Li Rich NMC           1  0.008  2  0.56  0.16   0  0   0   0  ...   \n",
       "383  Li Rich NMC           1  0.008  2  0.56  0.16   0  0   0   0  ...   \n",
       "\n",
       "     Column36  Column37  Column38  Column39  Column40  Column41  Column42  \\\n",
       "0         NaN       NaN       NaN       NaN       NaN       NaN       NaN   \n",
       "1         NaN       NaN       NaN       NaN       NaN       NaN       NaN   \n",
       "2         NaN       NaN       NaN       NaN       NaN       NaN       NaN   \n",
       "3         NaN       NaN       NaN       NaN       NaN       NaN       NaN   \n",
       "4         NaN       NaN       NaN       NaN       NaN       NaN       NaN   \n",
       "..        ...       ...       ...       ...       ...       ...       ...   \n",
       "379       NaN       NaN       NaN       NaN       NaN       NaN       NaN   \n",
       "380       NaN       NaN       NaN       NaN       NaN       NaN       NaN   \n",
       "381       NaN       NaN       NaN       NaN       NaN       NaN       NaN   \n",
       "382       NaN       NaN       NaN       NaN       NaN       NaN       NaN   \n",
       "383       NaN       NaN       NaN       NaN       NaN       NaN       NaN   \n",
       "\n",
       "     Column43  Column44  Column45  \n",
       "0         NaN       NaN       NaN  \n",
       "1         NaN       NaN       NaN  \n",
       "2         NaN       NaN       NaN  \n",
       "3         NaN       NaN       NaN  \n",
       "4         NaN       NaN       NaN  \n",
       "..        ...       ...       ...  \n",
       "379       NaN       NaN       NaN  \n",
       "380       NaN       NaN       NaN  \n",
       "381       NaN       NaN       NaN  \n",
       "382       NaN       NaN       NaN  \n",
       "383       NaN       NaN       NaN  \n",
       "\n",
       "[384 rows x 44 columns]>"
      ]
     },
     "execution_count": 3,
     "metadata": {},
     "output_type": "execute_result"
    }
   ],
   "source": [
    "df.info"
   ]
  },
  {
   "cell_type": "code",
   "execution_count": 4,
   "metadata": {},
   "outputs": [
    {
     "data": {
      "text/plain": [
       "<bound method NDFrame.describe of          Cathode  Li Cathode     Co  O    Mn    Ni  Fe  P  Al  Ti  ...  \\\n",
       "0         LiCoO2           1  1.000  2  0.00  0.00   0  0   0   0  ...   \n",
       "1         LiCoO2           1  1.000  2  0.00  0.00   0  0   0   0  ...   \n",
       "2         LiCoO2           1  1.000  2  0.00  0.00   0  0   0   0  ...   \n",
       "3         LiCoO2           1  1.000  2  0.00  0.00   0  0   0   0  ...   \n",
       "4         LiCoO2           1  1.000  2  0.00  0.00   0  0   0   0  ...   \n",
       "..           ...         ...    ... ..   ...   ...  .. ..  ..  ..  ...   \n",
       "379  Li Rich NMC           1  0.008  2  0.56  0.16   0  0   0   0  ...   \n",
       "380  Li Rich NMC           1  0.008  2  0.56  0.16   0  0   0   0  ...   \n",
       "381  Li Rich NMC           1  0.008  2  0.56  0.16   0  0   0   0  ...   \n",
       "382  Li Rich NMC           1  0.008  2  0.56  0.16   0  0   0   0  ...   \n",
       "383  Li Rich NMC           1  0.008  2  0.56  0.16   0  0   0   0  ...   \n",
       "\n",
       "     Column36  Column37  Column38  Column39  Column40  Column41  Column42  \\\n",
       "0         NaN       NaN       NaN       NaN       NaN       NaN       NaN   \n",
       "1         NaN       NaN       NaN       NaN       NaN       NaN       NaN   \n",
       "2         NaN       NaN       NaN       NaN       NaN       NaN       NaN   \n",
       "3         NaN       NaN       NaN       NaN       NaN       NaN       NaN   \n",
       "4         NaN       NaN       NaN       NaN       NaN       NaN       NaN   \n",
       "..        ...       ...       ...       ...       ...       ...       ...   \n",
       "379       NaN       NaN       NaN       NaN       NaN       NaN       NaN   \n",
       "380       NaN       NaN       NaN       NaN       NaN       NaN       NaN   \n",
       "381       NaN       NaN       NaN       NaN       NaN       NaN       NaN   \n",
       "382       NaN       NaN       NaN       NaN       NaN       NaN       NaN   \n",
       "383       NaN       NaN       NaN       NaN       NaN       NaN       NaN   \n",
       "\n",
       "     Column43  Column44  Column45  \n",
       "0         NaN       NaN       NaN  \n",
       "1         NaN       NaN       NaN  \n",
       "2         NaN       NaN       NaN  \n",
       "3         NaN       NaN       NaN  \n",
       "4         NaN       NaN       NaN  \n",
       "..        ...       ...       ...  \n",
       "379       NaN       NaN       NaN  \n",
       "380       NaN       NaN       NaN  \n",
       "381       NaN       NaN       NaN  \n",
       "382       NaN       NaN       NaN  \n",
       "383       NaN       NaN       NaN  \n",
       "\n",
       "[384 rows x 44 columns]>"
      ]
     },
     "execution_count": 4,
     "metadata": {},
     "output_type": "execute_result"
    }
   ],
   "source": [
    "df.describe"
   ]
  },
  {
   "cell_type": "code",
   "execution_count": 5,
   "metadata": {},
   "outputs": [
    {
     "data": {
      "text/plain": [
       "(384, 44)"
      ]
     },
     "execution_count": 5,
     "metadata": {},
     "output_type": "execute_result"
    }
   ],
   "source": [
    "df.shape"
   ]
  },
  {
   "cell_type": "code",
   "execution_count": 6,
   "metadata": {},
   "outputs": [],
   "source": [
    "df.dropna(axis = 'columns', inplace  =True)"
   ]
  },
  {
   "cell_type": "code",
   "execution_count": 7,
   "metadata": {},
   "outputs": [],
   "source": [
    "X = df.iloc[:,1:-1].values\n",
    "y = df.iloc[:,-1].values"
   ]
  },
  {
   "cell_type": "code",
   "execution_count": 8,
   "metadata": {},
   "outputs": [
    {
     "data": {
      "text/plain": [
       "array([166, 180, 155, 166, 178, 195, 196, 164, 158, 164, 164, 192, 195,\n",
       "       179, 153, 178, 158, 169, 157, 163, 177, 190, 196, 178, 165, 160,\n",
       "       157, 190, 199, 173, 153, 158, 130, 117, 138, 122, 111, 148, 133,\n",
       "       104, 101, 101, 104, 125, 127, 114, 106, 113, 108, 118, 104, 118,\n",
       "       120, 132, 145, 101, 115, 111, 120, 128, 129, 100, 115, 101, 167,\n",
       "       150, 160, 178, 166, 188, 188, 166, 150, 155, 157, 186, 205, 168,\n",
       "       174, 155, 166, 177, 178, 177, 152, 181, 220, 162, 154, 174, 180,\n",
       "       198, 180, 152, 158, 172,  98,  90, 103, 102, 102, 110, 114,  96,\n",
       "       105,  97, 104, 116, 116, 109,  98, 107, 103,  93,  98, 101,  91,\n",
       "       120, 110,  91,  93, 108, 104, 114, 118, 102, 106, 109, 233, 211,\n",
       "       214, 216, 224, 257, 247, 203, 222, 200, 238, 240, 253, 203, 234,\n",
       "       207, 206, 229, 204, 225, 214, 251, 247, 228, 215, 230, 203, 251,\n",
       "       250, 203, 224, 211,  72,  70,  72,  70,  75,  80,  76,  71,  71,\n",
       "        73,  70,  79,  78,  75,  72,  73,  74,  75,  70,  75,  73,  77,\n",
       "        78,  76,  74,  71,  75,  79,  77,  72,  71,  76, 162, 164, 179,\n",
       "       161, 172, 215, 185, 166, 156, 175, 171, 184, 218, 160, 155, 180,\n",
       "       177, 171, 156, 171, 175, 208, 183, 164, 172, 160, 151, 183, 220,\n",
       "       171, 166, 170, 156, 159, 165, 160, 179, 200, 206, 152, 157, 174,\n",
       "       156, 188, 191, 160, 165, 157, 157, 166, 151, 151, 153, 188, 209,\n",
       "       176, 167, 151, 170, 200, 209, 168, 163, 163, 169, 178, 163, 167,\n",
       "       159, 184, 214, 171, 170, 180, 168, 204, 200, 165, 171, 165, 163,\n",
       "       172, 162, 172, 162, 185, 200, 169, 173, 168, 168, 193, 220, 159,\n",
       "       150, 178, 156, 172, 160, 160, 159, 195, 190, 171, 167, 160, 160,\n",
       "       203, 202, 156, 164, 175, 172, 173, 167, 170, 153, 186, 188, 169,\n",
       "       158, 155, 169, 186, 206, 150, 160, 160, 152, 178, 158, 152, 152,\n",
       "       209, 204, 178, 175, 168, 179, 219, 213, 164, 151, 154, 171, 153,\n",
       "       165, 162, 173, 201, 205, 157, 157, 159, 154, 192, 213, 174, 161,\n",
       "       155, 166, 157, 172, 155, 169, 189, 189, 179, 170, 159, 175, 215,\n",
       "       208, 159, 166, 150, 152, 166, 161, 172, 153, 208, 199, 174, 150,\n",
       "       169, 162, 220, 193, 169, 168, 174], dtype=int64)"
      ]
     },
     "execution_count": 8,
     "metadata": {},
     "output_type": "execute_result"
    }
   ],
   "source": [
    "y"
   ]
  },
  {
   "cell_type": "code",
   "execution_count": 9,
   "metadata": {},
   "outputs": [
    {
     "data": {
      "text/plain": [
       "(384, 29)"
      ]
     },
     "execution_count": 9,
     "metadata": {},
     "output_type": "execute_result"
    }
   ],
   "source": [
    "df.shape"
   ]
  },
  {
   "cell_type": "code",
   "execution_count": 10,
   "metadata": {},
   "outputs": [
    {
     "data": {
      "text/plain": [
       "array([[1.   , 1.   , 2.   , ..., 0.   , 0.   , 0.   ],\n",
       "       [1.   , 1.   , 2.   , ..., 0.   , 0.   , 0.   ],\n",
       "       [1.   , 1.   , 2.   , ..., 0.   , 0.   , 0.   ],\n",
       "       ...,\n",
       "       [1.   , 0.008, 2.   , ..., 1.   , 0.   , 0.   ],\n",
       "       [1.   , 0.008, 2.   , ..., 0.   , 1.   , 0.   ],\n",
       "       [1.   , 0.008, 2.   , ..., 0.   , 0.   , 1.   ]])"
      ]
     },
     "execution_count": 10,
     "metadata": {},
     "output_type": "execute_result"
    }
   ],
   "source": [
    "X"
   ]
  },
  {
   "cell_type": "code",
   "execution_count": 11,
   "metadata": {},
   "outputs": [
    {
     "data": {
      "text/plain": [
       "array([[1., 0., 4., ..., 0., 0., 0.],\n",
       "       [1., 1., 2., ..., 0., 0., 0.],\n",
       "       [2., 0., 3., ..., 0., 0., 0.],\n",
       "       ...,\n",
       "       [1., 0., 4., ..., 0., 0., 0.],\n",
       "       [1., 0., 4., ..., 0., 0., 1.],\n",
       "       [2., 0., 3., ..., 0., 0., 0.]])"
      ]
     },
     "execution_count": 11,
     "metadata": {},
     "output_type": "execute_result"
    }
   ],
   "source": [
    "#Splitting the data to train, test sets\n",
    "from sklearn.model_selection import train_test_split\n",
    "X_train, X_test, y_train, y_test = train_test_split(X, y, test_size = 0.2, random_state = 0)\n",
    "X_train"
   ]
  },
  {
   "cell_type": "code",
   "execution_count": 12,
   "metadata": {},
   "outputs": [],
   "source": [
    "# X_train = X_train[:,:12] + X_train[:,13:]"
   ]
  },
  {
   "cell_type": "code",
   "execution_count": 13,
   "metadata": {},
   "outputs": [
    {
     "ename": "SyntaxError",
     "evalue": "invalid syntax (<ipython-input-13-079bf24ba57e>, line 1)",
     "output_type": "error",
     "traceback": [
      "\u001b[1;36m  File \u001b[1;32m\"<ipython-input-13-079bf24ba57e>\"\u001b[1;36m, line \u001b[1;32m1\u001b[0m\n\u001b[1;33m    y_train.shape`\u001b[0m\n\u001b[1;37m                 ^\u001b[0m\n\u001b[1;31mSyntaxError\u001b[0m\u001b[1;31m:\u001b[0m invalid syntax\n"
     ]
    }
   ],
   "source": [
    "y_train.shape`"
   ]
  },
  {
   "cell_type": "code",
   "execution_count": null,
   "metadata": {},
   "outputs": [],
   "source": [
    "#LinearRegression\n",
    "from sklearn.linear_model import LinearRegression\n",
    "lreg = LinearRegression()\n",
    "lreg.fit(X_train,y_train)"
   ]
  },
  {
   "cell_type": "code",
   "execution_count": null,
   "metadata": {},
   "outputs": [],
   "source": [
    "y_pred = lreg.predict(X_test)\n",
    "y_pred"
   ]
  },
  {
   "cell_type": "code",
   "execution_count": null,
   "metadata": {},
   "outputs": [],
   "source": [
    "pt.plot(y_test)\n",
    "pt.plot(y_pred)"
   ]
  },
  {
   "cell_type": "code",
   "execution_count": null,
   "metadata": {},
   "outputs": [],
   "source": [
    "from sklearn.metrics import r2_score\n",
    "r2 = r2_score(y_test,y_pred)\n",
    "print(r2)"
   ]
  },
  {
   "cell_type": "code",
   "execution_count": null,
   "metadata": {},
   "outputs": [],
   "source": [
    "pt.figure(figsize=(20,15))\n",
    "p=sns.heatmap(df.corr(),annot=True,cmap=\"RdYlGn\")"
   ]
  },
  {
   "cell_type": "code",
   "execution_count": null,
   "metadata": {},
   "outputs": [],
   "source": [
    "# sample = np.array(X[0,:])\n",
    "# c_n = list(df.columns.values)\n",
    "# print(len(sample))\n",
    "# print(len(c_n))"
   ]
  },
  {
   "cell_type": "code",
   "execution_count": null,
   "metadata": {},
   "outputs": [],
   "source": [
    "# c_n = c_n[1:-1]\n",
    "# print(sample)"
   ]
  },
  {
   "cell_type": "code",
   "execution_count": null,
   "metadata": {},
   "outputs": [],
   "source": [
    "# print(len(sample))\n",
    "# print(len(c_n))"
   ]
  },
  {
   "cell_type": "code",
   "execution_count": null,
   "metadata": {},
   "outputs": [],
   "source": [
    "# np.stack((c_n, sample))\n",
    "# import sys\n",
    "# import numpy\n",
    "# numpy.set_printoptions(threshold=sys.maxsize)"
   ]
  },
  {
   "cell_type": "code",
   "execution_count": null,
   "metadata": {},
   "outputs": [],
   "source": [
    "# np.stack((c_n, sample))"
   ]
  },
  {
   "cell_type": "code",
   "execution_count": null,
   "metadata": {},
   "outputs": [],
   "source": [
    "new = [1,1,2,0,0,0,0,0,0,1,0, 0, 0, 0, 0, 0, 1, 2, 0,0, 0, 0, 0, 0, 0,0,0]\n",
    "len(new)\n",
    "new"
   ]
  },
  {
   "cell_type": "code",
   "execution_count": null,
   "metadata": {},
   "outputs": [],
   "source": [
    "# f_new = [\"%.2f\" % elem for elem in new]\n",
    "p = np.array(new)\n",
    "p = p.reshape(1,-1)\n",
    "print(p)\n",
    "print(lreg.predict(p))"
   ]
  },
  {
   "cell_type": "code",
   "execution_count": null,
   "metadata": {},
   "outputs": [],
   "source": [
    "print(lreg.predict(p))"
   ]
  },
  {
   "cell_type": "code",
   "execution_count": null,
   "metadata": {},
   "outputs": [],
   "source": []
  }
 ],
 "metadata": {
  "kernelspec": {
   "display_name": "Python 3",
   "language": "python",
   "name": "python3"
  },
  "language_info": {
   "codemirror_mode": {
    "name": "ipython",
    "version": 3
   },
   "file_extension": ".py",
   "mimetype": "text/x-python",
   "name": "python",
   "nbconvert_exporter": "python",
   "pygments_lexer": "ipython3",
   "version": "3.7.6"
  }
 },
 "nbformat": 4,
 "nbformat_minor": 4
}
